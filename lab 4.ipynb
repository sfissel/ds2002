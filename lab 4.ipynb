{
 "cells": [
  {
   "cell_type": "code",
   "execution_count": 1,
   "metadata": {},
   "outputs": [],
   "source": [
    "import json\n",
    "import requests\n",
    "import pandas"
   ]
  },
  {
   "cell_type": "code",
   "execution_count": 2,
   "metadata": {},
   "outputs": [
    {
     "name": "stdout",
     "output_type": "stream",
     "text": [
      "XOM\n"
     ]
    },
    {
     "data": {
      "text/plain": [
       "'XOM'"
      ]
     },
     "execution_count": 2,
     "metadata": {},
     "output_type": "execute_result"
    }
   ],
   "source": [
    "stock = input()\n",
    "stock"
   ]
  },
  {
   "cell_type": "code",
   "execution_count": 3,
   "metadata": {},
   "outputs": [
    {
     "name": "stdout",
     "output_type": "stream",
     "text": [
      "XOM\n"
     ]
    }
   ],
   "source": [
    "print(stock)"
   ]
  },
  {
   "cell_type": "code",
   "execution_count": 4,
   "metadata": {},
   "outputs": [
    {
     "name": "stdout",
     "output_type": "stream",
     "text": [
      "{'symbols': 'XOM'}\n"
     ]
    }
   ],
   "source": [
    "urlQuote = 'https://query1.finance.yahoo.com/v7/finance/quote'\n",
    "querystring = {\"symbols\": stock}\n",
    "print(querystring)"
   ]
  },
  {
   "cell_type": "code",
   "execution_count": 5,
   "metadata": {},
   "outputs": [],
   "source": [
    "header_var ={\n",
    "    'User-Agent': 'Mozilla/5.0 (Macintosh; Intel Mac OS X 10_10_1) AppleWebKit/537.36 (KHTML, like Gecko) Chrome/39.0.2171.95 Safari/537.36'}\n",
    "\n",
    "response = requests.request(\"GET\",urlQuote,headers=header_var,params=querystring)"
   ]
  },
  {
   "cell_type": "code",
   "execution_count": 6,
   "metadata": {},
   "outputs": [],
   "source": [
    "stock_json = response.json()"
   ]
  },
  {
   "cell_type": "code",
   "execution_count": 7,
   "metadata": {},
   "outputs": [],
   "source": [
    "from stocksymbol import StockSymbol\n",
    "api_key = 'e3c74e8a-d855-49ba-ac71-37bfaa95f106'\n",
    "ss = StockSymbol(api_key)\n",
    "symbol_only_list_upper = ss.get_symbol_list(market=\"us\", symbols_only=True)\n",
    "symbol_only_list_l = map(lambda x:x.lower(), symbol_only_list_upper)\n",
    "symbol_only_list_lower = list(symbol_only_list_l)"
   ]
  },
  {
   "cell_type": "code",
   "execution_count": 8,
   "metadata": {},
   "outputs": [],
   "source": [
    "# Name Ticker\n",
    "name_ticker = stock_json['quoteResponse']['result'][0]['symbol']"
   ]
  },
  {
   "cell_type": "code",
   "execution_count": 9,
   "metadata": {},
   "outputs": [],
   "source": [
    "# Full Name of the Stock\n",
    "full_name = stock_json['quoteResponse']['result'][0]['longName']"
   ]
  },
  {
   "cell_type": "code",
   "execution_count": 10,
   "metadata": {},
   "outputs": [],
   "source": [
    "url2=\"https://query1.finance.yahoo.com/v11/finance/quoteSummary/\"\n",
    "query_str = {\"symbol\": stock, \"modules\": \"financialData\"}\n",
    "response = requests.request(\"GET\", url2, headers=header_var, params=query_str)\n",
    "stock_json = response.json()"
   ]
  },
  {
   "cell_type": "code",
   "execution_count": 11,
   "metadata": {},
   "outputs": [],
   "source": [
    "#Current Price\n",
    "current_price = stock_json['quoteSummary']['result'][0]['financialData']['currentPrice']"
   ]
  },
  {
   "cell_type": "code",
   "execution_count": 12,
   "metadata": {},
   "outputs": [],
   "source": [
    "# Target Mean Price\n",
    "target_mean_price = stock_json['quoteSummary']['result'][0]['financialData']['targetMeanPrice']"
   ]
  },
  {
   "cell_type": "code",
   "execution_count": 13,
   "metadata": {},
   "outputs": [],
   "source": [
    "# Cash on Hand\n",
    "cash_on_hand = stock_json['quoteSummary']['result'][0]['financialData']['totalCash']"
   ]
  },
  {
   "cell_type": "code",
   "execution_count": 14,
   "metadata": {},
   "outputs": [],
   "source": [
    "# Profit Margins\n",
    "profit_margins = stock_json['quoteSummary']['result'][0]['financialData']['profitMargins']"
   ]
  },
  {
   "cell_type": "code",
   "execution_count": 15,
   "metadata": {},
   "outputs": [],
   "source": [
    "url3 = \"https://query1.finance.yahoo.com/v8/finance/chart/\"\n",
    "query_str = {\"symbol\": stock, \"metrics\": \"date\"}\n",
    "response = requests.request(\"GET\", url3, headers=header_var, params=query_str)\n",
    "stock_json = response.json()"
   ]
  },
  {
   "cell_type": "code",
   "execution_count": 16,
   "metadata": {},
   "outputs": [
    {
     "data": {
      "text/plain": [
       "'10-14-2022'"
      ]
     },
     "execution_count": 16,
     "metadata": {},
     "output_type": "execute_result"
    }
   ],
   "source": [
    "from datetime import datetime\n",
    "unix = stock_json['chart']['result'][0]['meta']['regularMarketTime']\n",
    "ts = int(unix)\n",
    "date1 = datetime.utcfromtimestamp(ts).strftime('%m-%d-%Y')\n",
    "date1"
   ]
  },
  {
   "cell_type": "code",
   "execution_count": 17,
   "metadata": {},
   "outputs": [],
   "source": [
    "dictionary = {\n",
    "    \"Name Ticker\" : name_ticker,\n",
    "    \"Full Name of Stock\" : full_name,\n",
    "    \"Current Price\" : current_price,\n",
    "    \"Target Mean Price\" : target_mean_price,\n",
    "    \"Cash on Hand\" : cash_on_hand,\n",
    "    \"Profit Margins\" : profit_margins,\n",
    "    \"Date\": date1\n",
    "}\n",
    "\n",
    "json_object = json.dumps(dictionary)\n",
    "\n",
    "with open(\"lab4.json\", \"w\") as outfile:\n",
    "    outfile.write(json_object)"
   ]
  },
  {
   "cell_type": "code",
   "execution_count": null,
   "metadata": {},
   "outputs": [],
   "source": []
  },
  {
   "cell_type": "code",
   "execution_count": null,
   "metadata": {},
   "outputs": [],
   "source": []
  }
 ],
 "metadata": {
  "kernelspec": {
   "display_name": "Python 3",
   "language": "python",
   "name": "python3"
  },
  "language_info": {
   "codemirror_mode": {
    "name": "ipython",
    "version": 3
   },
   "file_extension": ".py",
   "mimetype": "text/x-python",
   "name": "python",
   "nbconvert_exporter": "python",
   "pygments_lexer": "ipython3",
   "version": "3.7.3"
  }
 },
 "nbformat": 4,
 "nbformat_minor": 2
}
